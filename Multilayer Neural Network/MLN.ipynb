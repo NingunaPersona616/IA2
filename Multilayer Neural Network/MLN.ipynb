{
 "cells": [
  {
   "cell_type": "markdown",
   "id": "2ad94e73",
   "metadata": {},
   "source": [
    "## Neurona Multicapa"
   ]
  },
  {
   "cell_type": "markdown",
   "id": "8015f79f",
   "metadata": {},
   "source": [
    "#### Funciones de Activacion"
   ]
  },
  {
   "cell_type": "code",
   "execution_count": 1,
   "id": "d31f439a",
   "metadata": {},
   "outputs": [],
   "source": [
    "import numpy as np\n",
    "\n",
    "#Activation fucntions for output layer\n",
    "def logistic(z, derivative=False):\n",
    "    a = 1/(1 + np.exp(-z))\n",
    "    if derivative:\n",
    "        da = np.ones(z.shape)\n",
    "        return a, da\n",
    "    return a\n",
    "\n",
    "def softmax(z, derivative=False):\n",
    "    e_z = np.exp(z - np.max(z, axis=0))\n",
    "    a = e_z / np.sum(e_z, axis=0)\n",
    "    if derivative:\n",
    "        da = np.ones(z.shape)\n",
    "        return a, da\n",
    "    return a\n",
    "\n",
    "def linear(z, derivative=False):\n",
    "    a = z\n",
    "    if derivative:\n",
    "        da = np.ones(z.shape)\n",
    "        return a, da\n",
    "    return a\n",
    "\n",
    "#Activation functions for hiden layers\n",
    "def relu(z, derivative=False):\n",
    "    a = z * (z>=0)\n",
    "    if derivative:\n",
    "        da = np.array(z>=0, dtype=float)\n",
    "        return a, da\n",
    "    return a\n",
    "\n",
    "def tanh(z, derivative=False):\n",
    "    a = np.tanh(z)\n",
    "    if derivative:\n",
    "        da = (1-a) * (1+a)\n",
    "        return a, da\n",
    "    return a\n",
    "\n",
    "def logistic_hidden(z, derivative=False):\n",
    "    a = 1 / (1 + np.exp(-z)) \n",
    "    if derivative:\n",
    "        da = a * (1 - a)\n",
    "        return a, da\n",
    "    return a\n"
   ]
  },
  {
   "cell_type": "markdown",
   "id": "d11365ff",
   "metadata": {},
   "source": [
    "### Red"
   ]
  },
  {
   "cell_type": "code",
   "execution_count": 4,
   "id": "8be28d11",
   "metadata": {},
   "outputs": [],
   "source": [
    "class DenseNetwork:\n",
    "    def __init__(self, layers_dim, hidden_activation=tanh, output_activation=logistic):\n",
    "        #Atributes\n",
    "        self.L = len(layers_dim) - 1\n",
    "        self.w = [None] * (self.L+1)\n",
    "        self.b = [None] * (self.L+1)\n",
    "        self.f = [None] * (self.L+1)\n",
    "        \n",
    "        #initialize\n",
    "        for l in range(1, self.L+1):\n",
    "            self.w[l] = -1 + 2* np.random.rand(layers_dim[l], layers_dim[l-1])\n",
    "            self.b[l] = -1 + 2* np.random.rand(layers_dim[l],1)\n",
    "            \n",
    "            if l == self.L:\n",
    "                self.f[l] = output_activation\n",
    "            else:\n",
    "                self.f[l] = hidden_activation\n",
    "\n",
    "    def predict(self, X):\n",
    "        a = X\n",
    "        for l in range(1, self.L+1):\n",
    "            z = self.w[l] @ a + self.b[l] #Propaga la salida de la capa a la entrada de la sig\n",
    "            a = self.f[l](z)\n",
    "        return a\n",
    "\n",
    "    def fit(self, X, Y, epochs=500, lr=0.1):\n",
    "        p = X.shape[1]\n",
    "        \n",
    "        for _ in range(epochs):\n",
    "            #Initializing activations, derivatives and local gradient\n",
    "            a = [None] * (self.L+1)\n",
    "            da = [None] * (self.L+1)\n",
    "            lg = [None] * (self.L+1)\n",
    "            \n",
    "            a[0] = X #Capa de entrada o capa 0\n",
    "            \n",
    "            #Propagation\n",
    "            for l in range(1, self.L+1):\n",
    "                z = self.w[l] @ a[l-1] + self.b[l]\n",
    "                a[l], da[l] = self.f[l](z, derivative=True)\n",
    "                \n",
    "            #Backpropagation\n",
    "            for l in range(self.L, 0, -1):#Ciclo hacia atras\n",
    "                if l == self.L:\n",
    "                    lg[l] = -(Y-a[l]*da[l])\n",
    "                else:\n",
    "                    lg[l] = (self.w[l+1].T @ lg[l+1]) * da[l]\n",
    "            \n",
    "            for l in range(1, self.L+1):\n",
    "                self.w[l] -= (lr/p) * (lg[l]@a[l-1].T)\n",
    "                self.b[l] -= (lr/p) * np.sum(lg[l])"
   ]
  },
  {
   "cell_type": "markdown",
   "id": "ffdb7288",
   "metadata": {},
   "source": [
    "### Ejemplo"
   ]
  },
  {
   "cell_type": "code",
   "execution_count": 8,
   "id": "4ece1140",
   "metadata": {},
   "outputs": [
    {
     "data": {
      "image/png": "[encoded data removed]",
      "text/plain": [
       "<Figure size 432x288 with 1 Axes>"
      ]
     },
     "metadata": {
      "needs_background": "light"
     },
     "output_type": "display_data"
    }
   ],
   "source": [
    "import matplotlib.pyplot as plt\n",
    "\n",
    "def MLP_binary_classification(X,Y, net):\n",
    "    plt.figure()\n",
    "    for i in range(X.shape[1]):\n",
    "        if Y[0,i] == 0:\n",
    "            plt.plot(X[0,i], X[1,i], 'ro', markersize=9)\n",
    "        else:\n",
    "            plt.plot(X[0,i], X[1,i], 'b*', markersize=9)\n",
    "\n",
    "    xmin, ymin = np.min(X[0, :])-0.5, np.min(X[1, :])-0.5\n",
    "    xmax, ymax = np.max(X[0, :])+0.5, np.max(X[1, :])+0.5\n",
    "\n",
    "    xx, yy = np.meshgrid(np.linspace(xmin ,xmax, 100), np.linspace(ymin, ymax, 100))\n",
    "\n",
    "    data = [xx.ravel(), yy.ravel()]\n",
    "    zz = net.predict(data)\n",
    "    zz = zz.reshape(xx.shape)\n",
    "\n",
    "    plt.contour(xx, yy, zz, [0.5], colors='k', linestyles='--', linewidths=2)\n",
    "    plt.contourf(xx, yy, zz, alpha=0.8, cmap=plt.cm.RdBu)\n",
    "    plt.xlim([xmin, xmax])\n",
    "    plt.ylim([ymin, ymax])\n",
    "    plt.grid()\n",
    "    plt.show()\n",
    "\n",
    "X = np.array([[0, 0, 1, 1],[0, 1, 0, 1]])\n",
    "Y = np.array([[0, 1, 1, 0]])\n",
    "\n",
    "#2 entradas, 10 ocultas, 2 salidas\n",
    "net = DenseNetwork((2,10,1))\n",
    "net.fit(X, Y, epochs=500)\n",
    "MLP_binary_classification(X,Y, net)\n"
   ]
  }
 ],
 "metadata": {
  "kernelspec": {
   "display_name": "Python 3 (ipykernel)",
   "language": "python",
   "name": "python3"
  },
  "language_info": {
   "codemirror_mode": {
    "name": "ipython",
    "version": 3
   },
   "file_extension": ".py",
   "mimetype": "text/x-python",
   "name": "python",
   "nbconvert_exporter": "python",
   "pygments_lexer": "ipython3",
   "version": "3.10.0"
  }
 },
 "nbformat": 4,
 "nbformat_minor": 5
}
