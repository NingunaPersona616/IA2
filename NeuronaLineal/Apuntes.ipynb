{
 "cells": [
  {
   "cell_type": "markdown",
   "id": "e33bbe65",
   "metadata": {},
   "source": [
    "# Neurona lineal"
   ]
  },
  {
   "cell_type": "code",
   "execution_count": 4,
   "id": "0b24e283",
   "metadata": {},
   "outputs": [
    {
     "data": {
      "image/png": "[encoded data removed]",
      "text/plain": [
       "<Figure size 432x288 with 1 Axes>"
      ]
     },
     "metadata": {
      "needs_background": "light"
     },
     "output_type": "display_data"
    }
   ],
   "source": [
    "import numpy as np \n",
    "import matplotlib.pyplot as plt\n",
    "import pandas as pd\n",
    "import random \n",
    "\n",
    "class LinearNeuron:\n",
    "    def __init__(self, n_inputs, learning_rate=0.1):\n",
    "        self.w = -1+ 2* np.random.rand(n_inputs)\n",
    "        self.b = -1+ 2*(np.random.rand())\n",
    "        self.eta = learning_rate\n",
    "\n",
    "    def predict(self, X):\n",
    "        Y_est = np.dot(self.w, X)+ self.b\n",
    "        return Y_est\n",
    "\n",
    "    \n",
    "    def fit(self, X, Y, solver=\"BGD\", epochs=500):\n",
    "        p = X.shape[1]\n",
    "\n",
    "        #Stocastic Gradient descent\n",
    "        if solver == \"SGD\":\n",
    "            for _ in range(epochs):\n",
    "                for i in range(p):\n",
    "                    y_est = self.predict(X[:,i])\n",
    "                    self.w += self.eta * (Y[:,i] - y_est) * X[:,i]\n",
    "                    self.b += self.eta * (Y[:,i] - y_est)\n",
    "\n",
    "        elif solver == \"BGD\":\n",
    "            for _ in range(epochs):\n",
    "                Y_est = self.predict(X)\n",
    "                #print(Y_est)\n",
    "                self.w += (self.eta/p) * ((Y - Y_est) @ X.T).ravel()\n",
    "                self.b += (self.eta/p) * (np.sum(Y - Y_est))\n",
    "\n",
    "        elif solver == \"PSEUDO\":\n",
    "            X_hat = np.concatenate((np.ones((1,p)), X), axis=0)\n",
    "            w_hat = np.dot(Y, np.linalg.pinv(X_hat))\n",
    "            self.b = w_hat[0,0]\n",
    "            self.w = w_hat[0,1:]\n",
    "\n",
    "if __name__ == \"__main__\":\n",
    "    ##CREACION Y ALMACENAMIENTO DE DATOS\n",
    "    \"\"\"\n",
    "    p = 100\n",
    "    x = np.zeros([p])\n",
    "    y = np.zeros([p])\n",
    "\n",
    "    for i in range(p):\n",
    "        x[i] = random.random()#un renglon las columnas que sean\n",
    "        y[i] = (0.028 * x[i] + 0.422 + 2 *random.random())\n",
    "\n",
    "    raw_data = {'x': x,\n",
    "                    'y':  y,\n",
    "                    #'IMC': Y\n",
    "                    }\n",
    "\n",
    "    #df = pd.DataFrame(raw_data, columns = ['weight', 'height', 'IMC'])\n",
    "    df = pd.DataFrame(raw_data, columns = ['x', 'y'])\n",
    "    df.to_csv('raw_data.csv', index=False)\n",
    "    \"\"\"\n",
    "\n",
    "    ###ENTRENAMIENTO\n",
    "    data = pd.read_csv(\"raw_data.csv\")\n",
    "    X = np.array(data['x'].values).reshape(1,-1)\n",
    "    Y = np.array(data['y'].values).reshape(1,-1)\n",
    "    #print(x)\n",
    "    net = LinearNeuron(1, 0.1)\n",
    "    net.fit(X,Y, solver=\"BGD\")\n",
    "\n",
    "    plt.plot(X,Y, '.b')\n",
    "\n",
    "    ##PREDICCION\n",
    "    xn = np.array([[0,1]])\n",
    "    plt.plot(xn.ravel(), net.predict(xn), '--r')\n",
    "    plt.show()"
   ]
  },
  {
   "cell_type": "markdown",
   "id": "78f9855b",
   "metadata": {},
   "source": [
    "# MiniBatch"
   ]
  },
  {
   "cell_type": "code",
   "execution_count": 2,
   "id": "1d258ce7",
   "metadata": {},
   "outputs": [
    {
     "data": {
      "image/png": "[encoded data removed]",
      "text/plain": [
       "<Figure size 432x288 with 1 Axes>"
      ]
     },
     "metadata": {
      "needs_background": "light"
     },
     "output_type": "display_data"
    }
   ],
   "source": [
    "import numpy as np \n",
    "import matplotlib.pyplot as plt\n",
    "import pandas as pd \n",
    "\n",
    "class LinearNeuron_MiniBatch:\n",
    "    def __init__(self, n_inputs, learning_rate=0.1):\n",
    "        self.w = -1+ 2* np.random.rand(n_inputs)\n",
    "        self.b = -1+ 2*(np.random.rand())\n",
    "        self.eta = learning_rate\n",
    "\n",
    "    def predict(self, X):\n",
    "        Y_est = np.dot(self.w, X)+ self.b\n",
    "        return Y_est\n",
    "\n",
    "    def batcher(self, X, Y, batch_size): #Funcion generadora\n",
    "        p = X.shape[1]\n",
    "        li, lu = 0, batch_size\n",
    "        while True:\n",
    "            if li < p:\n",
    "                yield X[:, li:lu], Y[:, li:lu]\n",
    "                li, lu = li+ batch_size, lu+batch_size\n",
    "            else:\n",
    "                return None\n",
    "            \n",
    "    def MSE(self, X, Y):\n",
    "        p = X.shape[1]\n",
    "        Y_est = self.predict(X)\n",
    "        return(1/(2*p))*np.sum((Y-Y_est)**2)\n",
    "    \n",
    "    def fit(self, X, Y, epcohs=500, batch_size=20):\n",
    "        error_history = []\n",
    "        for _ in range(epcohs):\n",
    "            minibatch = self.batcher(X, Y, batch_size)\n",
    "            for mX, mY in minibatch:\n",
    "                p = mX.shape[1]\n",
    "                Y_est = self.predict(mX)\n",
    "                self.w += (self.eta/p) * ((mY - Y_est) @ mX.T).ravel()\n",
    "                self.b += (self.eta/p) * np.sum(mY - Y_est)\n",
    "            error_history.append(self.MSE(X,Y))\n",
    "\n",
    "        return error_history\n",
    "\n",
    "if __name__ == \"__main__\":\n",
    "    ###ENTRENAMIENTO\n",
    "    data = pd.read_csv(\"raw_data.csv\")\n",
    "    X = np.array(data['x'].values).reshape(1,-1)\n",
    "    Y = np.array(data['y'].values).reshape(1,-1)\n",
    "    #print(X)\n",
    "    net = LinearNeuron_MiniBatch(1, 0.1)\n",
    "    net.fit(X,Y)\n",
    "\n",
    "    plt.plot(X,Y, '.b')\n",
    "\n",
    "    ##PREDICCION\n",
    "    xn = np.array([[0,1]])\n",
    "    plt.plot(xn.ravel(), net.predict(xn), '--r')\n",
    "    plt.show()"
   ]
  }
 ],
 "metadata": {
  "kernelspec": {
   "display_name": "Python 3",
   "language": "python",
   "name": "python3"
  },
  "language_info": {
   "codemirror_mode": {
    "name": "ipython",
    "version": 3
   },
   "file_extension": ".py",
   "mimetype": "text/x-python",
   "name": "python",
   "nbconvert_exporter": "python",
   "pygments_lexer": "ipython3",
   "version": "3.10.0"
  },
  "vscode": {
   "interpreter": {
    "hash": "69a9235b2799f09bc7a4d7fc4018927df298a0a697379818c8dec9478f72590e"
   }
  }
 },
 "nbformat": 4,
 "nbformat_minor": 5
}
