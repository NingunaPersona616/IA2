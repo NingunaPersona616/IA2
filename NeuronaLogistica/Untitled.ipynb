{
 "cells": [
  {
   "cell_type": "markdown",
   "id": "bb70ef91",
   "metadata": {},
   "source": [
    "# Neurona Logistica"
   ]
  },
  {
   "cell_type": "markdown",
   "id": "133c8c9b",
   "metadata": {},
   "source": [
    "Pred: Y_est = f(wX+b)\n",
    "\n",
    "f(z) = 1/(1+e^-z)\n",
    "\n",
    "Umbral: Y_est=(Y_est > umbral)*1.0"
   ]
  },
  {
   "cell_type": "code",
   "execution_count": 1,
   "id": "545e8c6a",
   "metadata": {},
   "outputs": [],
   "source": [
    "import numpy as np\n",
    "import matplotlib.pyplot as plt\n",
    "\n",
    "class LogisticNeuron:\n",
    "        def __init__(self, n_inputs, learning_rate=0.1):\n",
    "            self.w = -1+ 2* np.random.rand(n_inputs)\n",
    "            self.b = -1+ 2*(np.random.rand())\n",
    "            self.eta = learning_rate\n",
    "            \n",
    "        def predict_proba(self, X):\n",
    "            Z = np.dot(self.w, X) + self.b\n",
    "            Y_est = 1/(1+np.exp(-Z))\n",
    "            return Y_est\n",
    "        \n",
    "        def predict(self, X, umbral=0.5):\n",
    "            Z = np.dot(self.w, X) + self.b\n",
    "            Y_est = 1/(1+np.exp(-Z))\n",
    "            return 1.0*(Y_est >= umbral)\n",
    "        \n",
    "        def fit(self, X, Y, epochs=200):\n",
    "            p = X.shape[1]\n",
    "            for _ in range(epochs):\n",
    "                Y_est = self.predict_proba(X)\n",
    "                self.w += (self.eta/p) * np.dot((Y-Y_est), X.T).ravel()\n",
    "                self.b += (self.eta/p) * np.sum(Y-Y_est)"
   ]
  },
  {
   "cell_type": "markdown",
   "id": "550c6600",
   "metadata": {},
   "source": [
    "### Ejemplo"
   ]
  },
  {
   "cell_type": "code",
   "execution_count": 2,
   "id": "d74ff0cc",
   "metadata": {},
   "outputs": [
    {
     "name": "stdout",
     "output_type": "stream",
     "text": [
      "[0.00142596 0.09021658 0.09008665 0.87301852]\n",
      "[0. 0. 0. 1.]\n"
     ]
    }
   ],
   "source": [
    "X = np.array([[0,0,1,1], [0,1,0,1]])\n",
    "Y = np.array([0,0,0,1])\n",
    "\n",
    "neuron = LogisticNeuron(2,1)\n",
    "neuron.fit(X, Y)\n",
    "\n",
    "print(neuron.predict_proba(X))\n",
    "print(neuron.predict(X))"
   ]
  },
  {
   "cell_type": "markdown",
   "id": "857a7cfa",
   "metadata": {},
   "source": [
    "#### Medir accuracy para comprobar si aprende\n",
    "Volver a predcir con los datos de prueba y sacar el accuracy sum(casos_predecidos)/sum(resultados_deseados)"
   ]
  },
  {
   "cell_type": "code",
   "execution_count": null,
   "id": "265317f6",
   "metadata": {},
   "outputs": [],
   "source": []
  }
 ],
 "metadata": {
  "kernelspec": {
   "display_name": "Python 3",
   "language": "python",
   "name": "python3"
  },
  "language_info": {
   "codemirror_mode": {
    "name": "ipython",
    "version": 3
   },
   "file_extension": ".py",
   "mimetype": "text/x-python",
   "name": "python",
   "nbconvert_exporter": "python",
   "pygments_lexer": "ipython3",
   "version": "3.10.0"
  },
  "vscode": {
   "interpreter": {
    "hash": "69a9235b2799f09bc7a4d7fc4018927df298a0a697379818c8dec9478f72590e"
   }
  }
 },
 "nbformat": 4,
 "nbformat_minor": 5
}
