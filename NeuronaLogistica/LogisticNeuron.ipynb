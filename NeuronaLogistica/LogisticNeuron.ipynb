{
 "cells": [
  {
   "cell_type": "code",
   "execution_count": 229,
   "metadata": {},
   "outputs": [
    {
     "name": "stdout",
     "output_type": "stream",
     "text": [
      "From the file: diabetes.csv, the logistic Neuron has predicted: 526 / 768 cases,\n",
      "with an accuracy of: 0.6848958333333334\n"
     ]
    }
   ],
   "source": [
    "import numpy as np\n",
    "import pandas as pd\n",
    "\n",
    "from sklearn.preprocessing import StandardScaler\n",
    "from sklearn.preprocessing import MinMaxScaler\n",
    "\n",
    "class LogisticNeuron:\n",
    "        def __init__(self, n_inputs, learning_rate=0.1):\n",
    "            self.w = -1+ 2* np.random.rand(n_inputs)\n",
    "            self.b = -1+ 2*(np.random.rand())\n",
    "            self.eta = learning_rate\n",
    "            \n",
    "        def predict_proba(self, X): #Se usa cuando solo se ocupa la proba del predict, ej entrenar la red\n",
    "            Z = np.dot(self.w, X) + self.b\n",
    "            Y_est = 1/(1+np.exp(-Z))\n",
    "            return Y_est\n",
    "        \n",
    "        def predict(self, X, umbral=0.5):   #Se usa cuando ya queremos que esten clasificadas de manera binaria 1 o 0\n",
    "            Z = np.dot(self.w, X) + self.b\n",
    "            Y_est = 1/(1+np.exp(-Z))\n",
    "            return 1.0*(Y_est >= umbral)\n",
    "        \n",
    "        def fit(self, X, Y, epochs=500):\n",
    "            p = X.shape[1]\n",
    "            for _ in range(epochs):\n",
    "                Y_est = self.predict_proba(X)\n",
    "                self.w += (self.eta/p) * np.dot((Y-Y_est), X.T).ravel()\n",
    "                self.b += (self.eta/p) * np.sum(Y-Y_est)\n",
    "\n",
    "\n",
    "\n",
    "if __name__ == \"__main__\":\n",
    "    ###### Exporting Data ###########\n",
    "    file = \"diabetes.csv\"\n",
    "    data = pd.read_csv(file)\n",
    "    n_columns = data.shape[1]\n",
    "    n_inputs = n_columns-1\n",
    "\n",
    "    input_columns = list(data.columns[0:n_columns-1].values)    #Takes the name of the input rows\n",
    "    output_column = data.columns[n_columns-1:].values    #Takes the name of the output row            \n",
    "\n",
    "    X = np.array(data[input_columns])   #Takes the values of the inputs\n",
    "    Y = np.array(data[output_column].values).reshape(1,-1)   #Takes the values of the output\n",
    "\n",
    "    ###### Normalization of data ##########\n",
    "    mm = MinMaxScaler()\n",
    "    X = mm.fit_transform(X).T\n",
    "\n",
    "    ###### Training ##########\n",
    "    model = LogisticNeuron(n_inputs=n_inputs)\n",
    "    model.fit(X, Y)\n",
    "\n",
    "    ###### Prediction ########\n",
    "    Y_est = model.predict(X)\n",
    "\n",
    "    ###### Accuracy ##########\n",
    "    results = Y - Y_est #Diferencia entre los casos de prueba, y los casos predecidos\n",
    "    acerted_predictions = np.count_nonzero(results==0)   #Si la diferencia es 1 fallo al predecir un resultado positivo, si es -1 fallo al predecir un caso negativo, si es 0 acerto y se agrega al contador\n",
    "    Accuracy = acerted_predictions / X.shape[1]\n",
    "\n",
    "    print(\"From the file: \"+file+\", the logistic Neuron has predicted: \" + str(acerted_predictions)+\" / \"+str(X.shape[1])+\" cases,\\nwith an accuracy of: \"+ str(Accuracy))"
   ]
  }
 ],
 "metadata": {
  "kernelspec": {
   "display_name": "Python 3",
   "language": "python",
   "name": "python3"
  },
  "language_info": {
   "codemirror_mode": {
    "name": "ipython",
    "version": 3
   },
   "file_extension": ".py",
   "mimetype": "text/x-python",
   "name": "python",
   "nbconvert_exporter": "python",
   "pygments_lexer": "ipython3",
   "version": "3.10.0"
  },
  "orig_nbformat": 4,
  "vscode": {
   "interpreter": {
    "hash": "69a9235b2799f09bc7a4d7fc4018927df298a0a697379818c8dec9478f72590e"
   }
  }
 },
 "nbformat": 4,
 "nbformat_minor": 2
}
